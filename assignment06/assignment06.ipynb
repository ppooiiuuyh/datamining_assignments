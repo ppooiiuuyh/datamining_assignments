{
 "cells": [
  {
   "cell_type": "markdown",
   "metadata": {},
   "source": [
    "#### Name : Do-Hyun Kim\n",
    "#### Student ID : 2018120193\n",
    "#### github : https://github.com/ppooiiuuyh/datamining_assignments/tree/master/assignment06"
   ]
  },
  {
   "cell_type": "markdown",
   "metadata": {},
   "source": [
    "###### ====================================================================================================================\n",
    "######  import modules\n",
    "###### ===================================================================================================================="
   ]
  },
  {
   "cell_type": "code",
   "execution_count": 1,
   "metadata": {},
   "outputs": [],
   "source": [
    "import numpy as np\n",
    "import matplotlib.pyplot as plt"
   ]
  },
  {
   "cell_type": "markdown",
   "metadata": {},
   "source": [
    "###### ====================================================================================================================\n",
    "######  define variables and maks\n",
    "###### ===================================================================================================================="
   ]
  },
  {
   "cell_type": "code",
   "execution_count": 2,
   "metadata": {},
   "outputs": [],
   "source": [
    "num     = 201\n",
    "std     = 20\n",
    "a       = 2 \n",
    "b       = 10\n",
    "\n",
    "n       = np.random.rand(num)\n",
    "nn      = n - np.mean(n)\n",
    "x       = np.linspace(-100,100,num)\n",
    "\n",
    "y1      = a * x + nn * std + b \n",
    "\n",
    "#cal a and b\n",
    "a_ =0\n",
    "b_ =0"
   ]
  },
  {
   "cell_type": "markdown",
   "metadata": {},
   "source": [
    "###### ====================================================================================================================\n",
    "######  cal optimal variables\n",
    "###### ===================================================================================================================="
   ]
  },
  {
   "cell_type": "code",
   "execution_count": 3,
   "metadata": {},
   "outputs": [],
   "source": [
    "minimum = 999999999\n",
    "for i in np.arange(-10,10,0.1):\n",
    "    temp = np.sqrt(np.sum(np.square(y1 - i*x)))\n",
    "    if temp < minimum :\n",
    "        minimum = temp\n",
    "        a_ = i\n",
    "\n",
    "minimum = 999999\n",
    "for i in np.arange(-10,10,0.1):\n",
    "    temp = np.sqrt(np.sum(np.square(y1 - (a_*x+i))))\n",
    "    if temp < minimum :\n",
    "        minimum = temp\n",
    "        b_ = i\n",
    "\n",
    "y2      = a_ * x + b_"
   ]
  },
  {
   "cell_type": "markdown",
   "metadata": {},
   "source": [
    "###### ====================================================================================================================\n",
    "######  plot\n",
    "###### ===================================================================================================================="
   ]
  },
  {
   "cell_type": "code",
   "execution_count": 4,
   "metadata": {},
   "outputs": [
    {
     "data": {
      "image/png": "[encoded data removed]",
      "text/plain": [
       "<Figure size 432x288 with 1 Axes>"
      ]
     },
     "metadata": {},
     "output_type": "display_data"
    }
   ],
   "source": [
    "plt.plot(x, y1, 'b.', x, y2, 'k--')\n",
    "plt.show()"
   ]
  }
 ],
 "metadata": {
  "kernelspec": {
   "display_name": "Python 3",
   "language": "python",
   "name": "python3"
  },
  "language_info": {
   "codemirror_mode": {
    "name": "ipython",
    "version": 3
   },
   "file_extension": ".py",
   "mimetype": "text/x-python",
   "name": "python",
   "nbconvert_exporter": "python",
   "pygments_lexer": "ipython3",
   "version": "3.6.5"
  }
 },
 "nbformat": 4,
 "nbformat_minor": 2
}
